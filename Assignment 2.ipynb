{
 "cells": [
  {
   "cell_type": "markdown",
   "id": "5ebea287",
   "metadata": {},
   "source": [
    "1.What are the two values of the Boolean data type? How do you write them?\n"
   ]
  },
  {
   "cell_type": "markdown",
   "id": "7d4714b4",
   "metadata": {},
   "source": [
    " Two values of the Boolean data type are True and False.\n"
   ]
  },
  {
   "cell_type": "code",
   "execution_count": 18,
   "id": "51d5991a",
   "metadata": {},
   "outputs": [
    {
     "name": "stdout",
     "output_type": "stream",
     "text": [
      "True\n",
      "False\n",
      "False\n"
     ]
    }
   ],
   "source": [
    "A = True\n",
    "B = False\n",
    "C = (1==3)\n",
    "print(f\"{A}\\n{B}\\n{C}\")"
   ]
  },
  {
   "cell_type": "markdown",
   "id": "76a458ae",
   "metadata": {},
   "source": [
    "2. What are the three different types of Boolean operators?\n"
   ]
  },
  {
   "cell_type": "markdown",
   "id": "3406afd4",
   "metadata": {},
   "source": [
    "Three diffrent types of Boolean operators are \"AND\", \"OR\" and \"NOT\""
   ]
  },
  {
   "cell_type": "markdown",
   "id": "4ddcd4bd",
   "metadata": {},
   "source": [
    "3. Make a list of each Boolean operator's truth tables (i.e. every possible combination of Boolean values for the operator and what it evaluate ).\n"
   ]
  },
  {
   "cell_type": "code",
   "execution_count": 6,
   "id": "0ca9bb5a",
   "metadata": {},
   "outputs": [
    {
     "name": "stdout",
     "output_type": "stream",
     "text": [
      "OR List  :[True, True, True, False] \n",
      "AND List :[True, False, False, False] \n",
      "NOT List :[False, True]\n"
     ]
    }
   ],
   "source": [
    "X=True\n",
    "Y=False\n",
    "OR_List=[X or X, X or Y, Y or X, Y or Y]\n",
    "AND_List=[X and X, X and Y, Y and X, Y and Y]\n",
    "NOT_List=[not X,not Y]\n",
    "print(f\"OR List  :{OR_List} \\nAND List :{AND_List} \\nNOT List :{NOT_List}\")"
   ]
  },
  {
   "cell_type": "markdown",
   "id": "75a8ace6",
   "metadata": {},
   "source": [
    "4. What are the values of the following expressions?\n"
   ]
  },
  {
   "cell_type": "markdown",
   "id": "fdb093c0",
   "metadata": {},
   "source": [
    "(5 > 4) and (3 == 5)                     -------->(True and False)        --------> False\n",
    "\n",
    "not (5 > 4)                               -------->(not True)               --------> False\n",
    "\n",
    "(5 > 4) or (3 == 5)                       -------->(True or False)        --------> True\n",
    "\n",
    "not ((5 > 4) or (3 == 5))                 -------->(not (True or False))   -------->False\n",
    "\n",
    "(True and True) and (True == False)       -------->(True and False)        -------->False\n",
    "\n",
    "(not False) or (not True)                 -------->(True or False)          -------->True\n"
   ]
  },
  {
   "cell_type": "markdown",
   "id": "8393eb0e",
   "metadata": {},
   "source": [
    "5. What are the six comparison operators?\n",
    "\n",
    "A comparison operator compares two values and returns a boolean value, either True or False . Python has six comparison operators: less than ( < ), less than or equal to ( <= ), greater than ( > ), greater than or equal to ( >= ), equal to ( == ), and not equal to ( != ).\n"
   ]
  },
  {
   "cell_type": "markdown",
   "id": "9ba1eaa1",
   "metadata": {},
   "source": [
    "6. How do you tell the difference between the equal to and assignment operators?Describe a condition and when you would use one.\n",
    "\n",
    "The = is a simple assignment operator. It assigns values from right side operands to the left side operand.\n",
    "While on the other hand == checks if the values of two operands are equal or not. If yes, the condition becomes true and it returns a non zero value.Else return False or a zero value.\n"
   ]
  },
  {
   "cell_type": "code",
   "execution_count": 20,
   "id": "80a8c70e",
   "metadata": {},
   "outputs": [
    {
     "name": "stdout",
     "output_type": "stream",
     "text": [
      "False\n"
     ]
    }
   ],
   "source": [
    "#Eg.\n",
    "x=10\n",
    "y=20\n",
    "print(x==y)"
   ]
  },
  {
   "cell_type": "markdown",
   "id": "b04fdfd1",
   "metadata": {},
   "source": [
    "7. Identify the three blocks in this code:"
   ]
  },
  {
   "cell_type": "code",
   "execution_count": 3,
   "id": "d79b331a",
   "metadata": {},
   "outputs": [
    {
     "name": "stdout",
     "output_type": "stream",
     "text": [
      "ham\n",
      "spam\n",
      "spam\n"
     ]
    }
   ],
   "source": [
    "spam = 0\n",
    "if spam == 10:           #Block 1 \n",
    " print('eggs')\n",
    "if spam > 5:             #Block 2\n",
    " print('bacon')\n",
    "else:                    #Block 3\n",
    " print('ham')\n",
    " print('spam')\n",
    " print('spam')"
   ]
  },
  {
   "cell_type": "markdown",
   "id": "4febf4ad",
   "metadata": {},
   "source": [
    "8. Write code that prints Hello if 1 is stored in spam, prints Howdy if 2 is stored in spam, and prints Greetings! if anything else is stored in spam."
   ]
  },
  {
   "cell_type": "code",
   "execution_count": 7,
   "id": "37f0da68",
   "metadata": {},
   "outputs": [
    {
     "name": "stdout",
     "output_type": "stream",
     "text": [
      "Enter a value  3\n",
      "Greetings!\n"
     ]
    }
   ],
   "source": [
    "spam=int(input(\"Enter a value  \"))\n",
    "if spam==1:\n",
    "    print(\"Hello\")\n",
    "elif spam==2:\n",
    "    print(\"Howdy\")\n",
    "else:\n",
    "    print(\"Greetings!\")"
   ]
  },
  {
   "cell_type": "markdown",
   "id": "bfe97671",
   "metadata": {},
   "source": [
    "9.If your programme is stuck in an endless loop, what keys you’ll press?\n"
   ]
  },
  {
   "cell_type": "markdown",
   "id": "91a7b01e",
   "metadata": {},
   "source": [
    "An infinite loop occurs when a program keeps executing within one loop, never leaving it. To exit out of infinite loops on the command line, press CTRL + C "
   ]
  },
  {
   "cell_type": "markdown",
   "id": "5972e87d",
   "metadata": {},
   "source": [
    "10. How can you tell the difference between break and continue?"
   ]
  },
  {
   "cell_type": "markdown",
   "id": "f366cc08",
   "metadata": {},
   "source": [
    " Break: It eliminates the execution of remaining iteration of loop.\n",
    "        break will resume control of program to the end of loop enclosing that ‘break’.\n",
    "        \n",
    "continue:It will terminate only the current iteration of loop.\n",
    "         The ‘continue’ will resume the control of the program to next iteration of that loop enclosing ‘continue'"
   ]
  },
  {
   "cell_type": "code",
   "execution_count": 10,
   "id": "525e4b02",
   "metadata": {},
   "outputs": [
    {
     "name": "stdout",
     "output_type": "stream",
     "text": [
      "1 , 3 , 5 , 7 , 9 , 11 , 13 , 15 , 17 , 19 , 21 , 23 , "
     ]
    }
   ],
   "source": [
    "for i in range(110):\n",
    "    if i%2==0:\n",
    "        continue     #if number is even then program is not going to below statyements instead it is returning to for \n",
    "    elif i ==25:\n",
    "        break        #if number 25 is encountered loops is not going to next iteration instead it is comming out.i.e, breaking\n",
    "    print(i,end=\" , \")"
   ]
  },
  {
   "cell_type": "markdown",
   "id": "34fe6608",
   "metadata": {},
   "source": [
    "11. In a for loop, what is the difference between range(10), range(0, 10), and range(0, 10, 1)?"
   ]
  },
  {
   "cell_type": "markdown",
   "id": "6ab30de1",
   "metadata": {},
   "source": [
    "The range() function returns a sequence of numbers, starting from 0 by default, and increments by 1 (by default), and stops before a specified number. Return an object that produces a sequence of integers from start (inclusive)\n",
    "to stop (exclusive) by step.  range(i, j) produces i, i+1, i+2, ..., j-1.\n",
    "start defaults to 0, and stop is omitted!"
   ]
  },
  {
   "cell_type": "code",
   "execution_count": 11,
   "id": "8c7e3f7e",
   "metadata": {},
   "outputs": [
    {
     "name": "stdout",
     "output_type": "stream",
     "text": [
      "0,1,2,3,4,5,6,7,8,9,"
     ]
    }
   ],
   "source": [
    "for i in range(10):  # range(stop) initialization=0(default),stop=10-1(passed),increment=1(default)\n",
    "    print(i ,end=\",\")"
   ]
  },
  {
   "cell_type": "code",
   "execution_count": 12,
   "id": "94c2b4b8",
   "metadata": {},
   "outputs": [
    {
     "name": "stdout",
     "output_type": "stream",
     "text": [
      "0,1,2,3,4,5,6,7,8,9,"
     ]
    }
   ],
   "source": [
    "for i in range(0,10): # range(start,stop) initialization=0(passed),stop=10(passed),increment=1(default)\n",
    "    print(i,end=\",\")"
   ]
  },
  {
   "cell_type": "code",
   "execution_count": 13,
   "id": "8aea5870",
   "metadata": {},
   "outputs": [
    {
     "name": "stdout",
     "output_type": "stream",
     "text": [
      "0,1,2,3,4,5,6,7,8,9,"
     ]
    }
   ],
   "source": [
    "for i in range(0,10,1): # range(start,stop,step) initialization=0(passed),stop=10(passed),increment=1(passed)\n",
    "    print(i,end=\",\")"
   ]
  },
  {
   "cell_type": "markdown",
   "id": "83776cd0",
   "metadata": {},
   "source": [
    "12. Write a short program that prints the numbers 1 to 10 using a for loop. Then write an equivalent program that prints the numbers 1 to 10 using a while loop."
   ]
  },
  {
   "cell_type": "code",
   "execution_count": 16,
   "id": "f2388045",
   "metadata": {},
   "outputs": [
    {
     "name": "stdout",
     "output_type": "stream",
     "text": [
      "1,2,3,4,5,6,7,8,9,10,"
     ]
    }
   ],
   "source": [
    "# for loop\n",
    "for i in range(1,11):\n",
    "    print(i,end=\",\")"
   ]
  },
  {
   "cell_type": "code",
   "execution_count": 15,
   "id": "da7e36fd",
   "metadata": {},
   "outputs": [
    {
     "name": "stdout",
     "output_type": "stream",
     "text": [
      "1,2,3,4,5,6,7,8,9,10,"
     ]
    }
   ],
   "source": [
    "#while loop\n",
    "i=1\n",
    "while i<=10:\n",
    "    print(i, end=\",\")\n",
    "    i+=1"
   ]
  },
  {
   "cell_type": "markdown",
   "id": "ec57c58f",
   "metadata": {},
   "source": [
    "13. If you had a function named bacon() inside a module named spam, how would you call it after importing spam?"
   ]
  },
  {
   "cell_type": "markdown",
   "id": "d9f51b90",
   "metadata": {},
   "source": [
    "This function can be called with spam.bacon()"
   ]
  },
  {
   "cell_type": "code",
   "execution_count": 1,
   "id": "28756469",
   "metadata": {},
   "outputs": [
    {
     "name": "stdout",
     "output_type": "stream",
     "text": [
      "Hello\n"
     ]
    }
   ],
   "source": [
    "print(\"Hello\")"
   ]
  },
  {
   "cell_type": "code",
   "execution_count": 3,
   "id": "bdbe0f26",
   "metadata": {},
   "outputs": [
    {
     "name": "stdout",
     "output_type": "stream",
     "text": [
      "Commit\n"
     ]
    }
   ],
   "source": [
    "print(\"Commit\")"
   ]
  },
  {
   "cell_type": "code",
   "execution_count": null,
   "id": "91a4cf5a",
   "metadata": {},
   "outputs": [],
   "source": []
  }
 ],
 "metadata": {
  "kernelspec": {
   "display_name": "Python 3 (ipykernel)",
   "language": "python",
   "name": "python3"
  },
  "language_info": {
   "codemirror_mode": {
    "name": "ipython",
    "version": 3
   },
   "file_extension": ".py",
   "mimetype": "text/x-python",
   "name": "python",
   "nbconvert_exporter": "python",
   "pygments_lexer": "ipython3",
   "version": "3.9.13"
  }
 },
 "nbformat": 4,
 "nbformat_minor": 5
}
